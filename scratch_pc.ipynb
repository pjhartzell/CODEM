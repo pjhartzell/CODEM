{
 "cells": [
  {
   "cell_type": "code",
   "execution_count": null,
   "metadata": {},
   "outputs": [],
   "source": [
    "import pdal\n",
    "import json\n",
    "\n",
    "\n",
    "pc_file = \"demo/AOI-PointCloud.laz\"\n",
    "\n",
    "\n",
    "pdal_pipeline = [\n",
    "    pc_file,\n",
    "    # {\"type\": \"filters.info\"},\n",
    "]\n",
    "pipeline = pdal.Pipeline(json.dumps(pdal_pipeline))\n",
    "pipeline.execute()\n",
    "\n",
    "# metadata = pipeline.metadata[\"metadata\"]\n",
    "metadata = pipeline.metadata\n",
    "print(json.dumps(metadata, indent=4))\n"
   ]
  },
  {
   "cell_type": "code",
   "execution_count": 24,
   "metadata": {},
   "outputs": [
    {
     "name": "stdout",
     "output_type": "stream",
     "text": [
      "BoundingBox(left=627316.5, bottom=4323079.0, right=627779.5, top=4323511.0)\n",
      "627316.5 4323079.0 627779.5 4323511.0\n",
      "POLYGON ((627779.5 4323079, 627779.5 4323511, 627316.5 4323511, 627316.5 4323079, 627779.5 4323079))\n",
      "POLYGON ((628011 4322863, 628011 4323727, 627085 4323727, 627085 4322863, 628011 4322863))\n",
      "[627085.0, 4322863.0, 628011.0, 4323727.0]\n",
      "(-85.53145646709716, 39.04546515284791, -85.52059690334895, 39.05338353990129)\n"
     ]
    }
   ],
   "source": [
    "import rasterio\n",
    "from rasterio.warp import transform_bounds\n",
    "from shapely.geometry import box\n",
    "from shapely.affinity import scale\n",
    "import matplotlib.pyplot as plt\n",
    "\n",
    "dsm_file = \"demo/AOI-DigitalSurfaceModel.tif\"\n",
    "with rasterio.open(dsm_file) as dsm:\n",
    "    bbox = dsm.bounds\n",
    "    poly = box(*bbox)\n",
    "    buffered_poly = scale(poly, xfact=2, yfact=2)\n",
    "    transformed = transform_bounds(dsm.crs, {\"init\": \"EPSG:4326\"}, *buffered_poly.bounds)\n",
    "\n",
    "    print(bbox)\n",
    "    print(*bbox)\n",
    "    print(poly)\n",
    "    print(buffered_poly)\n",
    "    print(list(buffered_poly.bounds))\n",
    "    print(transformed)\n",
    "\n",
    "# fig = plt.figure(1)\n",
    "# ax = fig.add_subplot()\n",
    "# ax.plot(*buffered_poly.exterior.xy)\n",
    "# ax.plot(*poly.exterior.xy)\n",
    "# plt.show()\n"
   ]
  },
  {
   "cell_type": "code",
   "execution_count": 5,
   "metadata": {},
   "outputs": [
    {
     "name": "stdout",
     "output_type": "stream",
     "text": [
      "Found: 4 datasets\n"
     ]
    }
   ],
   "source": [
    "from odc.stac import stac_load\n",
    "import planetary_computer as pc\n",
    "from pystac_client import Client\n",
    "from IPython.display import HTML, display\n",
    "\n",
    "x, y = (-76.490798, 40.280593)\n",
    "r = 0.05\n",
    "bbox = (x - r, y - r, x + r, y + r)\n",
    "\n",
    "catalog = Client.open(\"https://planetarycomputer.microsoft.com/api/stac/v1\")\n",
    "\n",
    "query = catalog.search(\n",
    "    collections=[\"3dep-lidar-dsm\"],\n",
    "    bbox=bbox\n",
    ")\n",
    "\n",
    "items = list(query.get_items())\n",
    "print(f\"Found: {len(items):d} datasets\")\n"
   ]
  },
  {
   "cell_type": "code",
   "execution_count": 26,
   "metadata": {},
   "outputs": [],
   "source": [
    "urls = [i.assets[\"data\"].href for i in items]\n",
    "urls = [pc.sign(h) for h in urls]\n"
   ]
  },
  {
   "cell_type": "code",
   "execution_count": 25,
   "metadata": {},
   "outputs": [
    {
     "name": "stdout",
     "output_type": "stream",
     "text": [
      "COMPD_CS[\"NAD83 / UTM zone 18N + NAVD88 height\",PROJCS[\"NAD83 / UTM zone 18N\",GEOGCS[\"NAD83\",DATUM[\"North_American_Datum_1983\",SPHEROID[\"GRS 1980\",6378137,298.257222101,AUTHORITY[\"EPSG\",\"7019\"]],AUTHORITY[\"EPSG\",\"6269\"]],PRIMEM[\"Greenwich\",0,AUTHORITY[\"EPSG\",\"8901\"]],UNIT[\"degree\",0.0174532925199433,AUTHORITY[\"EPSG\",\"9122\"]],AUTHORITY[\"EPSG\",\"4269\"]],PROJECTION[\"Transverse_Mercator\"],PARAMETER[\"latitude_of_origin\",0],PARAMETER[\"central_meridian\",-75],PARAMETER[\"scale_factor\",0.9996],PARAMETER[\"false_easting\",500000],PARAMETER[\"false_northing\",0],UNIT[\"metre\",1,AUTHORITY[\"EPSG\",\"9001\"]],AXIS[\"Easting\",EAST],AXIS[\"Northing\",NORTH],AUTHORITY[\"EPSG\",\"26918\"]],VERT_CS[\"NAVD88 height\",VERT_DATUM[\"North American Vertical Datum 1988\",2005,AUTHORITY[\"EPSG\",\"5103\"]],UNIT[\"metre\",1,AUTHORITY[\"EPSG\",\"9001\"]],AXIS[\"Gravity-related height\",UP],AUTHORITY[\"EPSG\",\"5703\"]]]\n"
     ]
    }
   ],
   "source": [
    "from rasterio.merge import merge\n",
    "import rasterio\n",
    "from collections import Counter\n",
    "from tempfile import TemporaryDirectory\n",
    "from pathlib import Path\n",
    "import requests\n",
    "\n",
    "# 1. download all images\n",
    "dsms = {}\n",
    "for item in items:\n",
    "    dsms[item.id] = {}\n",
    "    dsms[item.id][\"url\"] = pc.sign(item.assets[\"data\"].href)\n",
    "\n",
    "\n",
    "with TemporaryDirectory() as tmp_dir:\n",
    "    for key, value in dsms.items():\n",
    "        download_path = Path(tmp_dir, Path(value[\"url\"]).name)\n",
    "        response = requests.get(value[\"url\"], stream=True)\n",
    "        with open(download_path, \"wb\") as fout:\n",
    "            for chunk in response.iter_content(chunk_size=4096):\n",
    "                fout.write(chunk)\n",
    "        dsms[key][\"temp_path\"] = download_path\n",
    "\n",
    "    # 2. enforce constant CRS\n",
    "    if len(dsms) > 1:\n",
    "        for key, dsm in dsms.items():\n",
    "            with rasterio.open(dsm[\"temp_path\"]) as src:\n",
    "                dsms[key][\"crs\"] = src.crs\n",
    "        \n",
    "        crs_count = Counter([dsm[\"crs\"] for dsm in dsms.values()])\n",
    "        if crs_count.__len__() > 1:\n",
    "            dst_crs = crs_count.most_common(1)[0][0]\n",
    "            for key, dsm in dsms.items():\n",
    "                with rasterio.open(dsm[\"temp_path\"]) as src:\n",
    "                    if src.crs != dst_crs:\n",
    "                        # reproject: https://rasterio.readthedocs.io/en/latest/topics/reproject.html\n",
    "\n",
    "\n",
    "\n",
    "\n",
    "# 2. if more than one image:\n",
    "\n",
    "    # 2a. enforce constant CRS\n",
    "\n",
    "    # 2b. merge into single image: https://rasterio.readthedocs.io/en/latest/api/rasterio.merge.html\n",
    "    #                              https://automating-gis-processes.github.io/CSC18/lessons/L6/raster-mosaic.html\n",
    "\n",
    "# 3. crop to bounding box: https://rasterio.readthedocs.io/en/latest/topics/windowed-rw.html\n",
    "\n",
    "# 4. upload to S3\n",
    "\n",
    "\n",
    "\n",
    "# open_dsms = [rasterio.open(dsm_href) for dsm_href in dsm_hrefs]\n",
    "# merged, transform = merge(open_dsms, bbox)\n",
    "# print(merged.shape)\n",
    "# print(transform)"
   ]
  },
  {
   "cell_type": "code",
   "execution_count": 23,
   "metadata": {},
   "outputs": [
    {
     "data": {
      "text/plain": [
       "3"
      ]
     },
     "execution_count": 23,
     "metadata": {},
     "output_type": "execute_result"
    }
   ],
   "source": [
    "x = [3, 2, 3]\n",
    "max(x)"
   ]
  }
 ],
 "metadata": {
  "kernelspec": {
   "display_name": "Python 3.9.13 ('codem')",
   "language": "python",
   "name": "python3"
  },
  "language_info": {
   "codemirror_mode": {
    "name": "ipython",
    "version": 3
   },
   "file_extension": ".py",
   "mimetype": "text/x-python",
   "name": "python",
   "nbconvert_exporter": "python",
   "pygments_lexer": "ipython3",
   "version": "3.9.13"
  },
  "orig_nbformat": 4,
  "vscode": {
   "interpreter": {
    "hash": "5943efc316d7856db527e6296ab157f3f7a0dc9171bdeee9c8755fd60159b14a"
   }
  }
 },
 "nbformat": 4,
 "nbformat_minor": 2
}
